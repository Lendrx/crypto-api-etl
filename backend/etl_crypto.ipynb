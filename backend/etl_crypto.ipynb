{
 "cells": [
  {
   "cell_type": "markdown",
   "metadata": {},
   "source": [
    "# Crypto Data ETL Pipeline\n",
    "\n",
    "Dieses Notebook ist für die Extraktion und Transformation der Kryptowährungsdaten zuständig."
   ]
  },
  {
   "cell_type": "code",
   "execution_count": 13,
   "metadata": {},
   "outputs": [],
   "source": [
    "import os\n",
    "import requests\n",
    "import pandas as pd\n",
    "import json\n",
    "from datetime import datetime\n",
    "from dotenv import load_dotenv"
   ]
  },
  {
   "cell_type": "markdown",
   "metadata": {},
   "source": [
    "## 1. Konfiguration\n",
    "\n",
    "API-Schlüssel und Konstanten laden"
   ]
  },
  {
   "cell_type": "code",
   "execution_count": 14,
   "metadata": {},
   "outputs": [],
   "source": [
    "load_dotenv()\n",
    "API_KEY = os.getenv('COINMARKETCAP_API_KEY')\n",
    "BASE_URL = 'https://pro-api.coinmarketcap.com/v1'\n",
    "ENDPOINTS = {\n",
    "    'listings': '/cryptocurrency/listings/latest'\n",
    "}"
   ]
  },
  {
   "cell_type": "markdown",
   "metadata": {},
   "source": [
    "## 2. Datenextraktion\n",
    "\n",
    "Funktion zum Abrufen der Kryptowährungsdaten mit Fehlerbehandlung"
   ]
  },
  {
   "cell_type": "code",
   "execution_count": 15,
   "metadata": {},
   "outputs": [],
   "source": [
    "def fetch_crypto_data(limit=10):\n",
    "    \"\"\"Kryptowährungsdaten von CoinMarketCap API abrufen\"\"\"\n",
    "    try:\n",
    "        url = BASE_URL + ENDPOINTS['listings']\n",
    "        headers = {\n",
    "            'Accepts': 'application/json',\n",
    "            'X-CMC_PRO_API_KEY': API_KEY\n",
    "        }\n",
    "        params = {\n",
    "            'start': '1',\n",
    "            'limit': str(limit),\n",
    "            'convert': 'USD'\n",
    "        }\n",
    "        \n",
    "        response = requests.get(url, headers=headers, params=params)\n",
    "        response.raise_for_status()\n",
    "        return response.json()\n",
    "        \n",
    "    except requests.exceptions.RequestException as e:\n",
    "        print(f\"Fehler beim API-Aufruf: {e}\")\n",
    "        return None"
   ]
  },
  {
   "cell_type": "markdown",
   "metadata": {},
   "source": [
    "## 3. Datentransformation\n",
    "\n",
    "Daten in ein strukturiertes Format umwandeln"
   ]
  },
  {
   "cell_type": "code",
   "execution_count": 16,
   "metadata": {},
   "outputs": [],
   "source": [
    "def transform_crypto_data(raw_data):\n",
    "    \"\"\"Rohdaten in ein strukturiertes DataFrame umwandeln\"\"\"\n",
    "    if not raw_data or 'data' not in raw_data:\n",
    "        return None\n",
    "        \n",
    "    transformed_data = [{\n",
    "        'Name': crypto['name'],\n",
    "        'Symbol': crypto['symbol'],\n",
    "        'Preis (USD)': round(crypto['quote']['USD']['price'], 2),\n",
    "        'Marktkapitalisierung (USD)': round(crypto['quote']['USD']['market_cap'], 2),\n",
    "        'Volumen 24h (USD)': round(crypto['quote']['USD']['volume_24h'], 2),\n",
    "        'Änderung 24h (%)': round(crypto['quote']['USD']['percent_change_24h'], 2),\n",
    "        'Zeitstempel': datetime.now().strftime('%Y-%m-%d %H:%M:%S')\n",
    "    } for crypto in raw_data['data']]\n",
    "    \n",
    "    return pd.DataFrame(transformed_data)"
   ]
  },
  {
   "cell_type": "markdown",
   "metadata": {},
   "source": [
    "## 4. Daten speichern\n",
    "\n",
    "Transformierte Daten in verschiedenen Formaten speichern"
   ]
  },
  {
   "cell_type": "code",
   "execution_count": 17,
   "metadata": {},
   "outputs": [],
   "source": [
    "def save_data(df, base_path='../data'):\n",
    "    \"\"\"Daten in verschiedenen Formaten speichern\"\"\"\n",
    "    if df is None:\n",
    "        return\n",
    "        \n",
    "    timestamp = datetime.now().strftime('%Y%m%d_%H%M%S')\n",
    "    \n",
    "    # CSV für historische Daten\n",
    "    csv_path = os.path.join(base_path, f'crypto_data_{timestamp}.csv')\n",
    "    df.to_csv(csv_path, index=False)\n",
    "    \n",
    "    # JSON für die Frontend-Visualisierung\n",
    "    json_path = os.path.join(base_path, 'latest_crypto_data.json')\n",
    "    df.to_json(json_path, orient='records')\n",
    "    \n",
    "    print(f\"Daten gespeichert:\\n- CSV: {csv_path}\\n- JSON: {json_path}\")"
   ]
  },
  {
   "cell_type": "markdown",
   "metadata": {},
   "source": [
    "## 5. ETL-Pipeline ausführen"
   ]
  },
  {
   "cell_type": "code",
   "execution_count": 18,
   "metadata": {},
   "outputs": [
    {
     "name": "stdout",
     "output_type": "stream",
     "text": [
      "1. Daten extrahieren...\n",
      "2. Daten transformieren...\n",
      "3. Daten speichern...\n",
      "Daten gespeichert:\n",
      "- CSV: ../data/crypto_data_20241227_095454.csv\n",
      "- JSON: ../data/latest_crypto_data.json\n",
      "\n",
      "ETL-Pipeline erfolgreich abgeschlossen!\n"
     ]
    },
    {
     "data": {
      "text/html": [
       "<div>\n",
       "<style scoped>\n",
       "    .dataframe tbody tr th:only-of-type {\n",
       "        vertical-align: middle;\n",
       "    }\n",
       "\n",
       "    .dataframe tbody tr th {\n",
       "        vertical-align: top;\n",
       "    }\n",
       "\n",
       "    .dataframe thead th {\n",
       "        text-align: right;\n",
       "    }\n",
       "</style>\n",
       "<table border=\"1\" class=\"dataframe\">\n",
       "  <thead>\n",
       "    <tr style=\"text-align: right;\">\n",
       "      <th></th>\n",
       "      <th>Name</th>\n",
       "      <th>Symbol</th>\n",
       "      <th>Preis (USD)</th>\n",
       "      <th>Marktkapitalisierung (USD)</th>\n",
       "      <th>Volumen 24h (USD)</th>\n",
       "      <th>Änderung 24h (%)</th>\n",
       "      <th>Zeitstempel</th>\n",
       "    </tr>\n",
       "  </thead>\n",
       "  <tbody>\n",
       "    <tr>\n",
       "      <th>0</th>\n",
       "      <td>Bitcoin</td>\n",
       "      <td>BTC</td>\n",
       "      <td>95640.40</td>\n",
       "      <td>1.893848e+12</td>\n",
       "      <td>4.655641e+10</td>\n",
       "      <td>-0.34</td>\n",
       "      <td>2024-12-27 09:54:54</td>\n",
       "    </tr>\n",
       "    <tr>\n",
       "      <th>1</th>\n",
       "      <td>Ethereum</td>\n",
       "      <td>ETH</td>\n",
       "      <td>3352.26</td>\n",
       "      <td>4.038288e+11</td>\n",
       "      <td>2.240717e+10</td>\n",
       "      <td>-0.56</td>\n",
       "      <td>2024-12-27 09:54:54</td>\n",
       "    </tr>\n",
       "    <tr>\n",
       "      <th>2</th>\n",
       "      <td>Tether USDt</td>\n",
       "      <td>USDT</td>\n",
       "      <td>1.00</td>\n",
       "      <td>1.392758e+11</td>\n",
       "      <td>9.969105e+10</td>\n",
       "      <td>-0.05</td>\n",
       "      <td>2024-12-27 09:54:54</td>\n",
       "    </tr>\n",
       "    <tr>\n",
       "      <th>3</th>\n",
       "      <td>XRP</td>\n",
       "      <td>XRP</td>\n",
       "      <td>2.17</td>\n",
       "      <td>1.244688e+11</td>\n",
       "      <td>5.303085e+09</td>\n",
       "      <td>-0.78</td>\n",
       "      <td>2024-12-27 09:54:54</td>\n",
       "    </tr>\n",
       "    <tr>\n",
       "      <th>4</th>\n",
       "      <td>BNB</td>\n",
       "      <td>BNB</td>\n",
       "      <td>695.34</td>\n",
       "      <td>1.001343e+11</td>\n",
       "      <td>1.181498e+09</td>\n",
       "      <td>-0.25</td>\n",
       "      <td>2024-12-27 09:54:54</td>\n",
       "    </tr>\n",
       "  </tbody>\n",
       "</table>\n",
       "</div>"
      ],
      "text/plain": [
       "          Name Symbol  Preis (USD)  Marktkapitalisierung (USD)  \\\n",
       "0      Bitcoin    BTC     95640.40                1.893848e+12   \n",
       "1     Ethereum    ETH      3352.26                4.038288e+11   \n",
       "2  Tether USDt   USDT         1.00                1.392758e+11   \n",
       "3          XRP    XRP         2.17                1.244688e+11   \n",
       "4          BNB    BNB       695.34                1.001343e+11   \n",
       "\n",
       "   Volumen 24h (USD)  Änderung 24h (%)          Zeitstempel  \n",
       "0       4.655641e+10             -0.34  2024-12-27 09:54:54  \n",
       "1       2.240717e+10             -0.56  2024-12-27 09:54:54  \n",
       "2       9.969105e+10             -0.05  2024-12-27 09:54:54  \n",
       "3       5.303085e+09             -0.78  2024-12-27 09:54:54  \n",
       "4       1.181498e+09             -0.25  2024-12-27 09:54:54  "
      ]
     },
     "metadata": {},
     "output_type": "display_data"
    }
   ],
   "source": [
    "def run_etl_pipeline():\n",
    "    \"\"\"Gesamte ETL-Pipeline ausführen\"\"\"\n",
    "    print(\"1. Daten extrahieren...\")\n",
    "    raw_data = fetch_crypto_data()\n",
    "    \n",
    "    if raw_data:\n",
    "        print(\"2. Daten transformieren...\")\n",
    "        df = transform_crypto_data(raw_data)\n",
    "        \n",
    "        if df is not None:\n",
    "            print(\"3. Daten speichern...\")\n",
    "            save_data(df)\n",
    "            print(\"\\nETL-Pipeline erfolgreich abgeschlossen!\")\n",
    "            return df\n",
    "    \n",
    "    print(\"Fehler in der ETL-Pipeline!\")\n",
    "    return None\n",
    "\n",
    "# Pipeline ausführen\n",
    "result_df = run_etl_pipeline()\n",
    "if result_df is not None:\n",
    "    display(result_df.head())"
   ]
  }
 ],
 "metadata": {
  "kernelspec": {
   "display_name": "venv",
   "language": "python",
   "name": "python3"
  },
  "language_info": {
   "codemirror_mode": {
    "name": "ipython",
    "version": 3
   },
   "file_extension": ".py",
   "mimetype": "text/x-python",
   "name": "python",
   "nbconvert_exporter": "python",
   "pygments_lexer": "ipython3",
   "version": "3.11.8"
  }
 },
 "nbformat": 4,
 "nbformat_minor": 2
}
